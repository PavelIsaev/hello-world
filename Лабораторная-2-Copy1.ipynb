{
 "cells": [
  {
   "cell_type": "markdown",
   "metadata": {},
   "source": [
    "Осуществим подключение к бд"
   ]
  },
  {
   "cell_type": "code",
   "execution_count": 1,
   "metadata": {},
   "outputs": [
    {
     "data": {
      "text/plain": [
       "'Connected: None@lab_2.db'"
      ]
     },
     "execution_count": 1,
     "metadata": {},
     "output_type": "execute_result"
    }
   ],
   "source": [
    "%load_ext sql\n",
    "%sql sqlite:///lab_2.db"
   ]
  },
  {
   "cell_type": "code",
   "execution_count": null,
   "metadata": {
    "collapsed": true
   },
   "outputs": [],
   "source": [
    "Создадим таблицу студентов, групп, городов и факультетов"
   ]
  },
  {
   "cell_type": "code",
   "execution_count": 2,
   "metadata": {},
   "outputs": [
    {
     "name": "stdout",
     "output_type": "stream",
     "text": [
      "Done.\n",
      "Done.\n",
      "Done.\n",
      "Done.\n",
      "Done.\n",
      "Done.\n",
      "Done.\n",
      "Done.\n"
     ]
    },
    {
     "data": {
      "text/plain": [
       "[]"
      ]
     },
     "execution_count": 2,
     "metadata": {},
     "output_type": "execute_result"
    }
   ],
   "source": [
    "%%sql \n",
    "drop table if exists Students;\n",
    "\n",
    "CREATE TABLE Students \n",
    "(\n",
    "    student_id integer primary key, \n",
    "    Name varchar(50),\n",
    "    SecondName varchar(50), \n",
    "    Faculty_id integer,\n",
    "    city_id integer,\n",
    "    group_id integer,\n",
    "    GPA number\n",
    ");\n",
    "\n",
    "drop table if exists Faculties;\n",
    "CREATE TABLE Faculties\n",
    "(\n",
    "id integer primary key,\n",
    "name varchar(50)\n",
    ");\n",
    "\n",
    "drop table if exists Groups; \n",
    "Create table Groups\n",
    "(\n",
    "id integer primary key,\n",
    "name varchar(50)\n",
    ");\n",
    "\n",
    "drop table if exists Cities; \n",
    "Create table Cities\n",
    "(\n",
    "id integer primary key,\n",
    "name varchar(50)\n",
    ");\n",
    "\n"
   ]
  },
  {
   "cell_type": "markdown",
   "metadata": {},
   "source": [
    "## Задание 1 \n",
    "Перепишите создание таблиц с учетом наличия внешних ключей"
   ]
  },
  {
   "cell_type": "code",
   "execution_count": 3,
   "metadata": {},
   "outputs": [
    {
     "name": "stdout",
     "output_type": "stream",
     "text": [
      "Done.\n",
      "Done.\n",
      "Done.\n",
      "Done.\n",
      "Done.\n",
      "Done.\n",
      "Done.\n",
      "Done.\n",
      "Done.\n"
     ]
    },
    {
     "data": {
      "text/plain": [
       "[]"
      ]
     },
     "execution_count": 3,
     "metadata": {},
     "output_type": "execute_result"
    }
   ],
   "source": [
    "%%sql \n",
    "\n",
    "drop table if exists Faculties;\n",
    "CREATE TABLE Faculties\n",
    "(\n",
    "id integer primary key,\n",
    "name varchar(50)\n",
    ");\n",
    "\n",
    "drop table if exists Groups; \n",
    "Create table Groups\n",
    "(\n",
    "id integer primary key,\n",
    "name varchar(50)\n",
    ");\n",
    "\n",
    "drop table if exists Cities; \n",
    "Create table Cities\n",
    "(\n",
    "id integer primary key,\n",
    "name varchar(50)\n",
    ");\n",
    "\n",
    "drop table if exists Students;\n",
    "pragma foreign_key = on;\n",
    "CREATE TABLE Students \n",
    "(\n",
    "    student_id integer primary key, \n",
    "    Name varchar(50),\n",
    "    SecondName varchar(50), \n",
    "    Faculty_id integer,\n",
    "    city_id integer,\n",
    "    group_id integer,\n",
    "    GPA number,\n",
    "    FOREIGN KEY (Faculty_id) REFERENCES Faculties(id),\n",
    "    FOREIGN KEY (city_id) REFERENCES Cities(id),\n",
    "    FOREIGN KEY (group_id) REFERENCES Groups(id) \n",
    ");\n",
    "\n"
   ]
  },
  {
   "cell_type": "markdown",
   "metadata": {},
   "source": [
    "## Задание 2\n",
    "Осуществить вставку во все таблицы с учетом правил на внешние ключи"
   ]
  },
  {
   "cell_type": "code",
   "execution_count": 4,
   "metadata": {},
   "outputs": [
    {
     "name": "stdout",
     "output_type": "stream",
     "text": [
      "1 rows affected.\n",
      "1 rows affected.\n",
      "1 rows affected.\n",
      "1 rows affected.\n",
      "1 rows affected.\n",
      "1 rows affected.\n",
      "1 rows affected.\n",
      "1 rows affected.\n",
      "1 rows affected.\n",
      "1 rows affected.\n",
      "1 rows affected.\n",
      "1 rows affected.\n",
      "1 rows affected.\n",
      "1 rows affected.\n",
      "1 rows affected.\n"
     ]
    },
    {
     "data": {
      "text/plain": [
       "[]"
      ]
     },
     "execution_count": 4,
     "metadata": {},
     "output_type": "execute_result"
    }
   ],
   "source": [
    "%%sql\n",
    "INSERT INTO Faculties (id,name) VALUES (11,'KIB');\n",
    "INSERT INTO Faculties (id,name) VALUES (12,'IT');\n",
    "INSERT INTO Faculties (id,name) VALUES (13,'Economy');\n",
    "\n",
    "INSERT INTO Cities (id,name) VALUES (197,'Moscow');\n",
    "INSERT INTO Cities (id,name) VALUES (5,'Makhachkala');\n",
    "INSERT INTO Cities (id,name) VALUES (33,'Vladimir');\n",
    "\n",
    "INSERT INTO Groups (id,name) VALUES (101,'KMBO-01');\n",
    "INSERT INTO Groups (id,name) VALUES (102,'KMBO-02');\n",
    "INSERT INTO Groups (id,name) VALUES (201,'TT-01');\n",
    "INSERT INTO Groups (id,name) VALUES (301,'EK-01');\n",
    "\n",
    "INSERT INTO Students (student_id,Name,SecondName,Faculty_id,group_id,city_id,GPA) VALUES (1,'Pavel','Spirin',11,101,33,4.2);\n",
    "INSERT INTO Students (student_id,Name,SecondName,Faculty_id,group_id,city_id,GPA) VALUES (2,'Timofey','Kalugin',11,101,197,4);\n",
    "INSERT INTO Students (student_id,Name,SecondName,Faculty_id,group_id,city_id,GPA) VALUES (3,'Nickolas','Evstasiev',11,102,197,4.5);\n",
    "INSERT INTO Students (student_id,Name,SecondName,Faculty_id,group_id,city_id,GPA) VALUES (4,'Michael','Strizhenov',12,201,197,3.8);\n",
    "INSERT INTO Students (student_id,Name,SecondName,Faculty_id,group_id,city_id,GPA) VALUES (5,'Maxim','Digussar',13,301,5,3.5);"
   ]
  },
  {
   "cell_type": "markdown",
   "metadata": {},
   "source": [
    "## Задание 3\n",
    "Вывести Имя Студента, Название его факультета, группы и города проживания"
   ]
  },
  {
   "cell_type": "code",
   "execution_count": 5,
   "metadata": {},
   "outputs": [
    {
     "name": "stdout",
     "output_type": "stream",
     "text": [
      "Done.\n"
     ]
    },
    {
     "data": {
      "text/html": [
       "<table>\n",
       "    <tr>\n",
       "        <th>Name</th>\n",
       "        <th>SecondName</th>\n",
       "        <th>Faculty</th>\n",
       "        <th>groupName</th>\n",
       "        <th>town</th>\n",
       "    </tr>\n",
       "    <tr>\n",
       "        <td>Pavel</td>\n",
       "        <td>Spirin</td>\n",
       "        <td>KIB</td>\n",
       "        <td>KMBO-01</td>\n",
       "        <td>Vladimir</td>\n",
       "    </tr>\n",
       "    <tr>\n",
       "        <td>Timofey</td>\n",
       "        <td>Kalugin</td>\n",
       "        <td>KIB</td>\n",
       "        <td>KMBO-01</td>\n",
       "        <td>Moscow</td>\n",
       "    </tr>\n",
       "    <tr>\n",
       "        <td>Nickolas</td>\n",
       "        <td>Evstasiev</td>\n",
       "        <td>KIB</td>\n",
       "        <td>KMBO-02</td>\n",
       "        <td>Moscow</td>\n",
       "    </tr>\n",
       "    <tr>\n",
       "        <td>Michael</td>\n",
       "        <td>Strizhenov</td>\n",
       "        <td>IT</td>\n",
       "        <td>TT-01</td>\n",
       "        <td>Moscow</td>\n",
       "    </tr>\n",
       "    <tr>\n",
       "        <td>Maxim</td>\n",
       "        <td>Digussar</td>\n",
       "        <td>Economy</td>\n",
       "        <td>EK-01</td>\n",
       "        <td>Makhachkala</td>\n",
       "    </tr>\n",
       "</table>"
      ],
      "text/plain": [
       "[('Pavel', 'Spirin', 'KIB', 'KMBO-01', 'Vladimir'),\n",
       " ('Timofey', 'Kalugin', 'KIB', 'KMBO-01', 'Moscow'),\n",
       " ('Nickolas', 'Evstasiev', 'KIB', 'KMBO-02', 'Moscow'),\n",
       " ('Michael', 'Strizhenov', 'IT', 'TT-01', 'Moscow'),\n",
       " ('Maxim', 'Digussar', 'Economy', 'EK-01', 'Makhachkala')]"
      ]
     },
     "execution_count": 5,
     "metadata": {},
     "output_type": "execute_result"
    }
   ],
   "source": [
    "%%sql\n",
    "SELECT s.Name,s.SecondName,f.name as Faculty,g.name as groupName,c.name as town\n",
    "FROM Students s,Faculties f,Groups g,Cities c\n",
    "Where Faculty_id = f.id and group_id = g.id and city_id = c.id\n"
   ]
  },
  {
   "cell_type": "markdown",
   "metadata": {},
   "source": [
    "## Задание 4\n",
    "Вывести имена всех студентов, обучающихся на факультет IT из Воронежа."
   ]
  },
  {
   "cell_type": "code",
   "execution_count": 6,
   "metadata": {},
   "outputs": [
    {
     "name": "stdout",
     "output_type": "stream",
     "text": [
      "Done.\n"
     ]
    },
    {
     "data": {
      "text/html": [
       "<table>\n",
       "    <tr>\n",
       "        <th>Name</th>\n",
       "        <th>SecondName</th>\n",
       "        <th>Faculty</th>\n",
       "    </tr>\n",
       "    <tr>\n",
       "        <td>Michael</td>\n",
       "        <td>Strizhenov</td>\n",
       "        <td>IT</td>\n",
       "    </tr>\n",
       "</table>"
      ],
      "text/plain": [
       "[('Michael', 'Strizhenov', 'IT')]"
      ]
     },
     "execution_count": 6,
     "metadata": {},
     "output_type": "execute_result"
    }
   ],
   "source": [
    "%%sql\n",
    "SELECT s.Name,s.SecondName,f.name as Faculty--,c.name as town\n",
    "FROM Students s,Faculties f,Cities c\n",
    "Where Faculty_id = f.id and city_id = c.id and  f.id =12 and c.id=197 /*add 'Voronesh' to table*/"
   ]
  },
  {
   "cell_type": "markdown",
   "metadata": {},
   "source": [
    "## Задание 5\n",
    "Для всевозможных пар (Факультет, Город) вывести количество студентов, соответствующее данной группе"
   ]
  },
  {
   "cell_type": "code",
   "execution_count": 7,
   "metadata": {},
   "outputs": [
    {
     "name": "stdout",
     "output_type": "stream",
     "text": [
      "Done.\n"
     ]
    },
    {
     "data": {
      "text/html": [
       "<table>\n",
       "    <tr>\n",
       "        <th>FACULT</th>\n",
       "        <th>TOWN</th>\n",
       "        <th>Avarage</th>\n",
       "    </tr>\n",
       "    <tr>\n",
       "        <td>Economy</td>\n",
       "        <td>Makhachkala</td>\n",
       "        <td>1</td>\n",
       "    </tr>\n",
       "    <tr>\n",
       "        <td>IT</td>\n",
       "        <td>Moscow</td>\n",
       "        <td>1</td>\n",
       "    </tr>\n",
       "    <tr>\n",
       "        <td>KIB</td>\n",
       "        <td>Moscow</td>\n",
       "        <td>2</td>\n",
       "    </tr>\n",
       "    <tr>\n",
       "        <td>KIB</td>\n",
       "        <td>Vladimir</td>\n",
       "        <td>1</td>\n",
       "    </tr>\n",
       "</table>"
      ],
      "text/plain": [
       "[('Economy', 'Makhachkala', 1),\n",
       " ('IT', 'Moscow', 1),\n",
       " ('KIB', 'Moscow', 2),\n",
       " ('KIB', 'Vladimir', 1)]"
      ]
     },
     "execution_count": 7,
     "metadata": {},
     "output_type": "execute_result"
    }
   ],
   "source": [
    "%%sql\n",
    "SELECT f.name AS FACULT, c.name AS TOWN, COUNT(s.student_id) as Avarage\n",
    "FROM Students s,Faculties f,Cities c\n",
    "Where Faculty_id = f.id and city_id = c.id \n",
    "GROUP BY  f.name ,c.name"
   ]
  },
  {
   "cell_type": "markdown",
   "metadata": {},
   "source": [
    "## Задание 6 \n",
    "Для всех групп вывести средний балл по группе для студентов, не проживающих в Москве, при условии, что количество таких студентов не менее 3 "
   ]
  },
  {
   "cell_type": "code",
   "execution_count": 24,
   "metadata": {},
   "outputs": [
    {
     "name": "stdout",
     "output_type": "stream",
     "text": [
      "Done.\n"
     ]
    },
    {
     "data": {
      "text/html": [
       "<table>\n",
       "    <tr>\n",
       "        <th>Grouppp</th>\n",
       "        <th>AVARAGE</th>\n",
       "    </tr>\n",
       "    <tr>\n",
       "        <td>EK-01</td>\n",
       "        <td>3.5</td>\n",
       "    </tr>\n",
       "    <tr>\n",
       "        <td>KMBO-01</td>\n",
       "        <td>4.2</td>\n",
       "    </tr>\n",
       "</table>"
      ],
      "text/plain": [
       "[('EK-01', 3.5), ('KMBO-01', 4.2)]"
      ]
     },
     "execution_count": 24,
     "metadata": {},
     "output_type": "execute_result"
    }
   ],
   "source": [
    "%%sql\n",
    "SELECT g.name as Grouppp, AVG(s.GPA) as AVARAGE\n",
    "FROM Students s, Groups g,Cities c\n",
    "Where s.group_id=g.id and city_id = c.id and c.name <> 'Moscow'/*add requirement about town and amount of people*/\n",
    "GROUP BY g.name Having Count (distinct s.Name)>0 /*change to >3 ,why names are broken of groups*/"
   ]
  },
  {
   "cell_type": "code",
   "execution_count": null,
   "metadata": {
    "collapsed": true
   },
   "outputs": [],
   "source": []
  }
 ],
 "metadata": {
  "kernelspec": {
   "display_name": "Python 3",
   "language": "python",
   "name": "python3"
  },
  "language_info": {
   "codemirror_mode": {
    "name": "ipython",
    "version": 3
   },
   "file_extension": ".py",
   "mimetype": "text/x-python",
   "name": "python",
   "nbconvert_exporter": "python",
   "pygments_lexer": "ipython3",
   "version": "3.6.1"
  }
 },
 "nbformat": 4,
 "nbformat_minor": 2
}
